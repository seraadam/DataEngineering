{
 "cells": [
  {
   "cell_type": "code",
   "execution_count": 2,
   "id": "homeless-reply",
   "metadata": {},
   "outputs": [],
   "source": [
    "from pyspark.sql import SparkSession\n",
    "from operator import add\n",
    "\n",
    "spark_session = SparkSession\\\n",
    "        .builder\\\n",
    "        .master(\"spark://192.168.2.113:7077\") \\\n",
    "        .appName(\"esraa_mohammed_a\")\\\n",
    "        .config(\"spark.dynamicAllocation.enabled\", True)\\\n",
    "        .config(\"spark.shuffle.service.enabled\", True)\\\n",
    "        .config(\"spark.dynamicAllocation.executorIdleTimeout\",\"30s\")\\\n",
    "        .config(\"spark.executor.cores\",2)\\\n",
    "        .config(\"spark.driver.port\",9998)\\\n",
    "        .config(\"spark.blockManager.port\",10005)\\\n",
    "        .getOrCreate()\n",
    "\n",
    "# Old API (RDD)\n",
    "spark_context = spark_session.sparkContext\n",
    "\n",
    "spark_context.setLogLevel(\"INFO\")\n"
   ]
  },
  {
   "cell_type": "markdown",
   "id": "postal-german",
   "metadata": {},
   "source": [
    "#A.1.1 :"
   ]
  },
  {
   "cell_type": "code",
   "execution_count": 3,
   "id": "adjacent-graduate",
   "metadata": {},
   "outputs": [
    {
     "data": {
      "text/plain": [
       "1924942"
      ]
     },
     "execution_count": 3,
     "metadata": {},
     "output_type": "execute_result"
    }
   ],
   "source": [
    "elines = spark_context.textFile(\"hdfs://192.168.2.113:9000/europarl/europarl-v7.fi-en.en\")\n",
    "elines.count()\n"
   ]
  },
  {
   "cell_type": "markdown",
   "id": "unauthorized-business",
   "metadata": {},
   "source": [
    "#A.1.2:"
   ]
  },
  {
   "cell_type": "code",
   "execution_count": 4,
   "id": "martial-stick",
   "metadata": {},
   "outputs": [
    {
     "data": {
      "text/plain": [
       "1924942"
      ]
     },
     "execution_count": 4,
     "metadata": {},
     "output_type": "execute_result"
    }
   ],
   "source": [
    "flines = spark_context.textFile(\"hdfs://192.168.2.113:9000/europarl/europarl-v7.fi-en.fi\")\n",
    "flines.count()"
   ]
  },
  {
   "cell_type": "markdown",
   "id": "beneficial-individual",
   "metadata": {},
   "source": [
    "#A.1.3 :\n",
    "total number of lines for both languages are : 1924942"
   ]
  },
  {
   "cell_type": "markdown",
   "id": "median-underwear",
   "metadata": {},
   "source": [
    "#A.1.4: 3 partitions"
   ]
  },
  {
   "cell_type": "code",
   "execution_count": 5,
   "id": "expected-surgeon",
   "metadata": {},
   "outputs": [
    {
     "name": "stdout",
     "output_type": "stream",
     "text": [
      "3\n",
      "3\n"
     ]
    }
   ],
   "source": [
    "print(elines.getNumPartitions())\n",
    "print(flines.getNumPartitions())"
   ]
  },
  {
   "cell_type": "markdown",
   "id": "approved-teddy",
   "metadata": {},
   "source": [
    "#A.2.1"
   ]
  },
  {
   "cell_type": "code",
   "execution_count": 6,
   "id": "seeing-ozone",
   "metadata": {},
   "outputs": [],
   "source": [
    "def preprocess(lines):\n",
    "    lower = lines.map(lambda line : line.lower())\\\n",
    "                 .flatMap(lambda s: s.split(' '))\\\n",
    "                 .flatMap(lambda w: w.split('\\n'))\\\n",
    "                 .map(lambda w: w.strip())\\\n",
    "                 .map(lambda w: (w,1))\\\n",
    "                 .reduceByKey(add)\n",
    "    \n",
    "    return lower"
   ]
  },
  {
   "cell_type": "markdown",
   "id": "bronze-needle",
   "metadata": {},
   "source": [
    "#A.2.2"
   ]
  },
  {
   "cell_type": "code",
   "execution_count": 7,
   "id": "respective-technical",
   "metadata": {},
   "outputs": [
    {
     "name": "stdout",
     "output_type": "stream",
     "text": [
      "[('opinion,', 5910), ('with', 307096), ('atmosphere', 668), ('of', 1724191), ('situation', 29453)]\n"
     ]
    }
   ],
   "source": [
    "epre = preprocess(elines)\n",
    "print(epre.take(5))"
   ]
  },
  {
   "cell_type": "code",
   "execution_count": 8,
   "id": "naughty-indiana",
   "metadata": {},
   "outputs": [
    {
     "name": "stdout",
     "output_type": "stream",
     "text": [
      "[('koko', 28238), ('ja', 1249156), ('yksin.', 396), ('aina', 17314), ('asiasta.', 3280)]\n"
     ]
    }
   ],
   "source": [
    "fpre = preprocess(flines)\n",
    "print(fpre.take(5))"
   ]
  },
  {
   "cell_type": "markdown",
   "id": "rubber-refund",
   "metadata": {},
   "source": [
    "#A.2.3"
   ]
  },
  {
   "cell_type": "code",
   "execution_count": 9,
   "id": "collective-dylan",
   "metadata": {},
   "outputs": [
    {
     "name": "stdout",
     "output_type": "stream",
     "text": [
      "1924942\n",
      "1924942\n"
     ]
    }
   ],
   "source": [
    "print(elines.count())\n",
    "print(flines.count())"
   ]
  },
  {
   "cell_type": "markdown",
   "id": "valuable-reconstruction",
   "metadata": {},
   "source": [
    "#A.3.1"
   ]
  },
  {
   "cell_type": "code",
   "execution_count": 10,
   "id": "durable-imagination",
   "metadata": {},
   "outputs": [
    {
     "name": "stdout",
     "output_type": "stream",
     "text": [
      "[('the', 3631865), ('of', 1724191), ('to', 1600135), ('and', 1339070), ('in', 1127220), ('that', 830098), ('a', 803908), ('is', 785410), ('for', 553730), ('we', 548087)]\n",
      "[('ja', 1249156), ('on', 1035956), ('että', 619655), ('euroopan', 257568), ('ei', 246268), ('myös', 178765), ('ovat', 161869), ('se', 152857), ('arvoisa', 149589), ('ole', 134745)]\n"
     ]
    }
   ],
   "source": [
    "print(epre.takeOrdered(10, key=lambda x: -x[1]))\n",
    "print(fpre.takeOrdered(10, key=lambda x: -x[1]))"
   ]
  },
  {
   "cell_type": "markdown",
   "id": "considerable-election",
   "metadata": {},
   "source": [
    "#A.3.2 :\n",
    "\n",
    "Most of the frequently used words in english are articles, pronounce, propositions and verb to be. same in French language"
   ]
  },
  {
   "cell_type": "code",
   "execution_count": 11,
   "id": "thorough-slovakia",
   "metadata": {},
   "outputs": [
    {
     "data": {
      "text/plain": [
       "[['Resumption', 'of', 'the', 'session'],\n",
       " ['Why', 'are', 'there', 'no', 'fire', 'instructions?'],\n",
       " ['Why', 'are', 'no-smoking', 'areas', 'not', 'enforced?'],\n",
       " ['Agenda'],\n",
       " ['Relating', 'to', 'Wednesday:'],\n",
       " ['(Applause', 'from', 'the', 'PSE', 'Group)'],\n",
       " ['That', 'was', 'the', 'decision.'],\n",
       " ['There', 'is', 'no', 'such', 'document!'],\n",
       " ['We', 'have', 'agreed', 'to', 'this.'],\n",
       " ['(Applause', 'from', 'the', 'PPE-DE', 'Group)']]"
      ]
     },
     "execution_count": 11,
     "metadata": {},
     "output_type": "execute_result"
    }
   ],
   "source": [
    "elines.map(lambda line: line.split(' ')).filter(lambda w: len(w) < 7).take(10)"
   ]
  },
  {
   "cell_type": "code",
   "execution_count": 12,
   "id": "bearing-restaurant",
   "metadata": {},
   "outputs": [
    {
     "data": {
      "text/plain": [
       "[['Istuntokauden', 'uudelleenavaaminen'],\n",
       " ['(Parlamentti', 'vietti', 'seisaallaan', 'minuutin', 'hiljaisuuden.)'],\n",
       " ['Arvoisa', 'puhemies,', 'käytän', 'työjärjestyspuheenvuoron.'],\n",
       " ['Arvoisa', 'puhemies,', 'käytän', 'työjärjestyspuheenvuoron.'],\n",
       " ['Se', 'on', 'tapaus', 'Aleksandr', 'Nikitin.'],\n",
       " ['Toivon,', 'että', 'sitä', 'käsitellään', 'myönteisessä', 'hengessä.'],\n",
       " ['Hyvä', 'kollega,', 'tarkistamme', 'asian.'],\n",
       " ['Vaarana', 'todellakin', 'on', 'tuleva', 'sotilasvallankaappaus.'],\n",
       " ['Me', 'emme', 'tiedä,', 'mitä', 'tapahtuu.'],\n",
       " ['Käsittelyjärjestys']]"
      ]
     },
     "execution_count": 12,
     "metadata": {},
     "output_type": "execute_result"
    }
   ],
   "source": [
    "flines.map(lambda line: line.split(' ')).filter(lambda w: len(w) < 7).take(10)"
   ]
  },
  {
   "cell_type": "markdown",
   "id": "union-uruguay",
   "metadata": {},
   "source": [
    "#A.4"
   ]
  },
  {
   "cell_type": "code",
   "execution_count": 13,
   "id": "designed-makeup",
   "metadata": {},
   "outputs": [
    {
     "name": "stdout",
     "output_type": "stream",
     "text": [
      "[('Resumption of the session', 0), ('I declare resumed the session of the European Parliament adjourned on Friday 17 December 1999, and I would like once again to wish you a happy new year in the hope that you enjoyed a pleasant festive period.', 1)]\n",
      "[('Istuntokauden uudelleenavaaminen', 0), ('Julistan perjantaina joulukuun 17. päivänä keskeytetyn Euroopan parlamentin istunnon avatuksi ja esitän vielä kerran vilpittömän toiveeni siitä, että teillä olisi ollut oikein mukava joululoma.', 1)]\n"
     ]
    }
   ],
   "source": [
    "en_1 = elines.zipWithIndex()\n",
    "fr_1 = flines.zipWithIndex()\n",
    "\n",
    "print(en_1.take(2))\n",
    "print(fr_1.take(2))"
   ]
  },
  {
   "cell_type": "code",
   "execution_count": 14,
   "id": "protecting-marketing",
   "metadata": {},
   "outputs": [
    {
     "name": "stdout",
     "output_type": "stream",
     "text": [
      "[(0, 'Resumption of the session'), (1, 'I declare resumed the session of the European Parliament adjourned on Friday 17 December 1999, and I would like once again to wish you a happy new year in the hope that you enjoyed a pleasant festive period.')]\n",
      "[(0, 'Istuntokauden uudelleenavaaminen'), (1, 'Julistan perjantaina joulukuun 17. päivänä keskeytetyn Euroopan parlamentin istunnon avatuksi ja esitän vielä kerran vilpittömän toiveeni siitä, että teillä olisi ollut oikein mukava joululoma.')]\n"
     ]
    }
   ],
   "source": [
    "en_2 = en_1.map(lambda x: (x[1], x[0]))\n",
    "fr_2 = fr_1.map(lambda x: (x[1], x[0]))\n",
    "\n",
    "print(en_2.take(2))\n",
    "print(fr_2.take(2))"
   ]
  },
  {
   "cell_type": "code",
   "execution_count": 15,
   "id": "outer-utilization",
   "metadata": {},
   "outputs": [],
   "source": [
    "en_3 = en_2.join(fr_2)\n"
   ]
  },
  {
   "cell_type": "code",
   "execution_count": 16,
   "id": "worthy-gambling",
   "metadata": {
    "scrolled": false
   },
   "outputs": [],
   "source": [
    "en_4 = en_3.filter(lambda x: len(x[1][0]) > 0 and len(x[1][1]) > 0)"
   ]
  },
  {
   "cell_type": "code",
   "execution_count": 17,
   "id": "median-bidding",
   "metadata": {},
   "outputs": [
    {
     "data": {
      "text/plain": [
       "[(1707390,\n",
       "  ('All of these various attempts have focused on three main difficulties facing workers in relation to freedom of movement and supplementary pensions.',\n",
       "   'Kaikissa näissä eri yrityksissä keskityttiin kolmeen päävaikeuteen, joita työntekijät kohtaavat suhteessa liikkuvuuden vapauteen ja lisäeläkkeisiin.')),\n",
       " (1707396,\n",
       "  ('It restricts itself to securing the principle of equal treatment for migrant workers.',\n",
       "   'Siinä rajoitutaan turvaamaan siirtotyöläisen yhdenvertaisen kohtelun periaate.'))]"
      ]
     },
     "execution_count": 17,
     "metadata": {},
     "output_type": "execute_result"
    }
   ],
   "source": [
    "en_4.take(2)"
   ]
  },
  {
   "cell_type": "code",
   "execution_count": 18,
   "id": "surgical-anchor",
   "metadata": {},
   "outputs": [],
   "source": [
    "en_5 = en_4.filter(lambda x: len(x[1][0].split(' ')) > 7 )"
   ]
  },
  {
   "cell_type": "code",
   "execution_count": 19,
   "id": "attached-suffering",
   "metadata": {},
   "outputs": [
    {
     "data": {
      "text/plain": [
       "[(895800,\n",
       "  ('We must send out a positive message that encourages dialogue and does not conjure up phantoms and devils.',\n",
       "   'Meidän on lähetettävä myönteinen viesti, jossa kannustetaan vuoropuheluun ja jossa ei manata esiin haamuja ja piruja.')),\n",
       " (895812,\n",
       "  (\"We lived in a communist state where people said that freedom should exist, but only for us, and not for our adversaries, in keeping with the famous motto that 'there is no freedom for enemies of freedom'.\",\n",
       "   'Elimme kommunistivaltiossa, jossa sanottiin, että vapaus on välttämätöntä, mutta vain meille eikä vastustajillemme, mukaillen kuuluisaa mottoa \"vapauden vihollisilla ei ole vapautta\".'))]"
      ]
     },
     "execution_count": 19,
     "metadata": {},
     "output_type": "execute_result"
    }
   ],
   "source": [
    "en_5.take(2)"
   ]
  },
  {
   "cell_type": "code",
   "execution_count": 20,
   "id": "jewish-killer",
   "metadata": {},
   "outputs": [],
   "source": [
    "en_6 = en_4.filter(lambda x: len(x[1][0].split(' ')) == len(x[1][1].split(' ')))"
   ]
  },
  {
   "cell_type": "code",
   "execution_count": 21,
   "id": "manufactured-nowhere",
   "metadata": {},
   "outputs": [
    {
     "data": {
      "text/plain": [
       "[(895806,\n",
       "  ('Freedom must serve a purpose.',\n",
       "   'Vapauden on palveltava jotakin tarkoitusta.')),\n",
       " (895884,\n",
       "  ('Europe will not remain silent.', 'EU ei jää vaitonaiseksi asiassa.'))]"
      ]
     },
     "execution_count": 21,
     "metadata": {},
     "output_type": "execute_result"
    }
   ],
   "source": [
    "en_6.take(2)"
   ]
  },
  {
   "cell_type": "code",
   "execution_count": 22,
   "id": "controlled-humanity",
   "metadata": {},
   "outputs": [],
   "source": [
    "list1= en_6.map(lambda x: x[1][0].split(' '))\n",
    "list2= en_6.map(lambda x: x[1][1].split(' '))\n",
    "en_7 = list1.zip(list2)"
   ]
  },
  {
   "cell_type": "code",
   "execution_count": 40,
   "id": "accepting-employment",
   "metadata": {},
   "outputs": [
    {
     "data": {
      "text/plain": [
       "[('Thank', 'Paljon'),\n",
       " ('you', 'kiitoksia,'),\n",
       " ('very', 'arvoisa'),\n",
       " ('much,', 'komission'),\n",
       " ('Commissioner.', 'jäsen.'),\n",
       " ('For', 'Sitä'),\n",
       " ('this', 'oli'),\n",
       " ('reason,', 'näin'),\n",
       " ('modernisation', 'ollen'),\n",
       " ('was', 'pakko')]"
      ]
     },
     "execution_count": 40,
     "metadata": {},
     "output_type": "execute_result"
    }
   ],
   "source": [
    "l1= en_7.flatMap(lambda x: x[0])\n",
    "l2 = en_7.flatMap(lambda x: x[1])\n",
    "en_77 = l1.zip(l2)\n",
    "\n",
    "en_77.take(10)"
   ]
  },
  {
   "cell_type": "code",
   "execution_count": 47,
   "id": "actual-stage",
   "metadata": {},
   "outputs": [],
   "source": [
    "en_8=en_77.map(lambda x: (x,1)).foldByKey(0, add).filter(lambda x: x[0][0] != '.')\n"
   ]
  },
  {
   "cell_type": "code",
   "execution_count": 45,
   "id": "charged-homework",
   "metadata": {},
   "outputs": [
    {
     "data": {
      "text/plain": [
       "[(('is', 'on'), 4793),\n",
       " (('\\xa0\\xa0', '\\xa0\\xa0'), 4700),\n",
       " (('and', 'ja'), 3661),\n",
       " (('(Applause)', '(Suosionosoituksia)'), 2291),\n",
       " (('This', 'Tämä'), 1251),\n",
       " (('President,', 'puhemies,'), 1044),\n",
       " (('must', 'on'), 1032),\n",
       " (('is', 'ei'), 1025),\n",
       " (('not', 'ole'), 978),\n",
       " (('that', 'että'), 935)]"
      ]
     },
     "execution_count": 45,
     "metadata": {},
     "output_type": "execute_result"
    }
   ],
   "source": [
    "en_8.takeOrdered(10, key=lambda x: -x[1])"
   ]
  },
  {
   "cell_type": "code",
   "execution_count": null,
   "id": "dependent-drain",
   "metadata": {},
   "outputs": [],
   "source": []
  }
 ],
 "metadata": {
  "kernelspec": {
   "display_name": "Python 3",
   "language": "python",
   "name": "python3"
  },
  "language_info": {
   "codemirror_mode": {
    "name": "ipython",
    "version": 3
   },
   "file_extension": ".py",
   "mimetype": "text/x-python",
   "name": "python",
   "nbconvert_exporter": "python",
   "pygments_lexer": "ipython3",
   "version": "3.8.5"
  }
 },
 "nbformat": 4,
 "nbformat_minor": 5
}
