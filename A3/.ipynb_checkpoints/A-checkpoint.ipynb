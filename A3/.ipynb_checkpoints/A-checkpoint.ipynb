{
 "cells": [
  {
   "cell_type": "code",
   "execution_count": 1,
   "id": "boolean-hypothetical",
   "metadata": {},
   "outputs": [],
   "source": [
    "from pyspark.sql import SparkSession\n",
    "from operator import add\n",
    "\n",
    "spark_session = SparkSession\\\n",
    "        .builder\\\n",
    "        .master(\"spark://192.168.2.113:7077\") \\\n",
    "        .appName(\"esraa_mohammed_a\")\\\n",
    "        .config(\"spark.dynamicAllocation.enabled\", True)\\\n",
    "        .config(\"spark.shuffle.service.enabled\", True)\\\n",
    "        .config(\"spark.dynamicAllocation.executorIdleTimeout\",\"30s\")\\\n",
    "        .config(\"spark.executor.cores\",2)\\\n",
    "        .config(\"spark.driver.port\",9998)\\\n",
    "        .config(\"spark.blockManager.port\",10005)\\\n",
    "        .getOrCreate()\n",
    "\n",
    "# Old API (RDD)\n",
    "spark_context = spark_session.sparkContext\n",
    "\n",
    "spark_context.setLogLevel(\"INFO\")\n"
   ]
  },
  {
   "cell_type": "markdown",
   "id": "excessive-motel",
   "metadata": {},
   "source": [
    "#A.1.1 :"
   ]
  },
  {
   "cell_type": "code",
   "execution_count": 2,
   "id": "alternative-influence",
   "metadata": {},
   "outputs": [
    {
     "data": {
      "text/plain": [
       "1924942"
      ]
     },
     "execution_count": 2,
     "metadata": {},
     "output_type": "execute_result"
    }
   ],
   "source": [
    "elines = spark_context.textFile(\"hdfs://192.168.2.113:9000/europarl/europarl-v7.fi-en.en\")\n",
    "elines.count()\n"
   ]
  },
  {
   "cell_type": "markdown",
   "id": "soviet-documentation",
   "metadata": {},
   "source": [
    "#A.1.2:"
   ]
  },
  {
   "cell_type": "code",
   "execution_count": 3,
   "id": "ecological-veteran",
   "metadata": {},
   "outputs": [
    {
     "data": {
      "text/plain": [
       "1924942"
      ]
     },
     "execution_count": 3,
     "metadata": {},
     "output_type": "execute_result"
    }
   ],
   "source": [
    "flines = spark_context.textFile(\"hdfs://192.168.2.113:9000/europarl/europarl-v7.fi-en.fi\")\n",
    "flines.count()"
   ]
  },
  {
   "cell_type": "markdown",
   "id": "balanced-listing",
   "metadata": {},
   "source": [
    "#A.1.3 :\n",
    "total number of lines for both languages are : 1924942"
   ]
  },
  {
   "cell_type": "markdown",
   "id": "great-scale",
   "metadata": {},
   "source": [
    "#A.1.4: 3 partitions"
   ]
  },
  {
   "cell_type": "code",
   "execution_count": 12,
   "id": "heavy-defensive",
   "metadata": {},
   "outputs": [
    {
     "name": "stdout",
     "output_type": "stream",
     "text": [
      "3\n",
      "3\n"
     ]
    }
   ],
   "source": [
    "print(elines.getNumPartitions())\n",
    "print(flines.getNumPartitions())"
   ]
  },
  {
   "cell_type": "markdown",
   "id": "sized-growing",
   "metadata": {},
   "source": [
    "#A.2.1"
   ]
  },
  {
   "cell_type": "code",
   "execution_count": 24,
   "id": "ruled-shipping",
   "metadata": {},
   "outputs": [],
   "source": [
    "def preprocess(lines):\n",
    "    lower = lines.map(lambda line : line.lower())\\\n",
    "                 .flatMap(lambda s: s.split(' '))\\\n",
    "                 .flatMap(lambda w: w.split('\\n'))\\\n",
    "                 .map(lambda w: w.strip())\\\n",
    "                 .map(lambda w: (w,1))\\\n",
    "                 .reduceByKey(add)\n",
    "    \n",
    "    return lower"
   ]
  },
  {
   "cell_type": "markdown",
   "id": "local-cathedral",
   "metadata": {},
   "source": [
    "#A.2.2"
   ]
  },
  {
   "cell_type": "code",
   "execution_count": 25,
   "id": "falling-stupid",
   "metadata": {},
   "outputs": [
    {
     "name": "stdout",
     "output_type": "stream",
     "text": [
      "[('of', 1724191), ('the', 3631865), ('session', 2430), ('declare', 1438), ('european', 278293)]\n"
     ]
    }
   ],
   "source": [
    "epre = preprocess(elines)\n",
    "print(epre.take(5))"
   ]
  },
  {
   "cell_type": "code",
   "execution_count": 26,
   "id": "amazing-transfer",
   "metadata": {},
   "outputs": [
    {
     "name": "stdout",
     "output_type": "stream",
     "text": [
      "[('uudelleenavaaminen', 80), ('17.', 766), ('keskeytetyn', 231), ('avatuksi', 11), ('ja', 1249156)]\n"
     ]
    }
   ],
   "source": [
    "fpre = preprocess(flines)\n",
    "print(fpre.take(5))"
   ]
  },
  {
   "cell_type": "markdown",
   "id": "informative-avenue",
   "metadata": {},
   "source": [
    "#A.2.3"
   ]
  },
  {
   "cell_type": "code",
   "execution_count": 16,
   "id": "finnish-fabric",
   "metadata": {},
   "outputs": [
    {
     "name": "stdout",
     "output_type": "stream",
     "text": [
      "1924942\n",
      "1924942\n"
     ]
    }
   ],
   "source": [
    "print(flines.count())\n",
    "print(elines.count())"
   ]
  },
  {
   "cell_type": "markdown",
   "id": "strange-cleveland",
   "metadata": {},
   "source": [
    "#A.3.1"
   ]
  },
  {
   "cell_type": "code",
   "execution_count": 27,
   "id": "robust-number",
   "metadata": {},
   "outputs": [
    {
     "name": "stdout",
     "output_type": "stream",
     "text": [
      "[('the', 3631865), ('of', 1724191), ('to', 1600135), ('and', 1339070), ('in', 1127220), ('that', 830098), ('a', 803908), ('is', 785410), ('for', 553730), ('we', 548087)]\n",
      "[('ja', 1249156), ('on', 1035956), ('että', 619655), ('euroopan', 257568), ('ei', 246268), ('myös', 178765), ('ovat', 161869), ('se', 152857), ('arvoisa', 149589), ('ole', 134745)]\n"
     ]
    }
   ],
   "source": [
    "print(epre.takeOrdered(10, key=lambda x: -x[1]))\n",
    "print(fpre.takeOrdered(10, key=lambda x: -x[1]))"
   ]
  },
  {
   "cell_type": "markdown",
   "id": "alien-commodity",
   "metadata": {},
   "source": [
    "#A.3.2 :\n",
    "\n",
    "Most of the frequently used words in english are articles, pronounce, propositions and verb to be. same in French language"
   ]
  },
  {
   "cell_type": "code",
   "execution_count": 8,
   "id": "fifty-nickname",
   "metadata": {},
   "outputs": [
    {
     "data": {
      "text/plain": [
       "[['Resumption', 'of', 'the', 'session'],\n",
       " ['Why', 'are', 'there', 'no', 'fire', 'instructions?'],\n",
       " ['Why', 'are', 'no-smoking', 'areas', 'not', 'enforced?'],\n",
       " ['Agenda'],\n",
       " ['Relating', 'to', 'Wednesday:'],\n",
       " ['(Applause', 'from', 'the', 'PSE', 'Group)'],\n",
       " ['That', 'was', 'the', 'decision.'],\n",
       " ['There', 'is', 'no', 'such', 'document!'],\n",
       " ['We', 'have', 'agreed', 'to', 'this.'],\n",
       " ['(Applause', 'from', 'the', 'PPE-DE', 'Group)']]"
      ]
     },
     "execution_count": 8,
     "metadata": {},
     "output_type": "execute_result"
    }
   ],
   "source": [
    "elines.map(lambda line: line.split(' ')).filter(lambda w: len(w) < 7).take(10)"
   ]
  },
  {
   "cell_type": "code",
   "execution_count": 9,
   "id": "indoor-wholesale",
   "metadata": {},
   "outputs": [
    {
     "data": {
      "text/plain": [
       "[['Istuntokauden', 'uudelleenavaaminen'],\n",
       " ['(Parlamentti', 'vietti', 'seisaallaan', 'minuutin', 'hiljaisuuden.)'],\n",
       " ['Arvoisa', 'puhemies,', 'käytän', 'työjärjestyspuheenvuoron.'],\n",
       " ['Arvoisa', 'puhemies,', 'käytän', 'työjärjestyspuheenvuoron.'],\n",
       " ['Se', 'on', 'tapaus', 'Aleksandr', 'Nikitin.'],\n",
       " ['Toivon,', 'että', 'sitä', 'käsitellään', 'myönteisessä', 'hengessä.'],\n",
       " ['Hyvä', 'kollega,', 'tarkistamme', 'asian.'],\n",
       " ['Vaarana', 'todellakin', 'on', 'tuleva', 'sotilasvallankaappaus.'],\n",
       " ['Me', 'emme', 'tiedä,', 'mitä', 'tapahtuu.'],\n",
       " ['Käsittelyjärjestys']]"
      ]
     },
     "execution_count": 9,
     "metadata": {},
     "output_type": "execute_result"
    }
   ],
   "source": [
    "flines.map(lambda line: line.split(' ')).filter(lambda w: len(w) < 7).take(10)"
   ]
  },
  {
   "cell_type": "code",
   "execution_count": null,
   "id": "under-publication",
   "metadata": {},
   "outputs": [],
   "source": [
    "en_1 = elines.zipWithIndex().map\n",
    "\n"
   ]
  }
 ],
 "metadata": {
  "kernelspec": {
   "display_name": "Python 3",
   "language": "python",
   "name": "python3"
  },
  "language_info": {
   "codemirror_mode": {
    "name": "ipython",
    "version": 3
   },
   "file_extension": ".py",
   "mimetype": "text/x-python",
   "name": "python",
   "nbconvert_exporter": "python",
   "pygments_lexer": "ipython3",
   "version": "3.8.5"
  }
 },
 "nbformat": 4,
 "nbformat_minor": 5
}
