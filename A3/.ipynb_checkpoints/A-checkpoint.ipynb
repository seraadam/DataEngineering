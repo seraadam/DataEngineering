{
 "cells": [
  {
   "cell_type": "code",
   "execution_count": 36,
   "id": "timely-origin",
   "metadata": {},
   "outputs": [],
   "source": [
    "from pyspark.sql import SparkSession\n",
    "from operator import add\n",
    "\n",
    "spark_session = SparkSession\\\n",
    "        .builder\\\n",
    "        .master(\"spark://192.168.2.113:7077\") \\\n",
    "        .appName(\"esraa_mohammed_a\")\\\n",
    "        .config(\"spark.dynamicAllocation.enabled\", True)\\\n",
    "        .config(\"spark.shuffle.service.enabled\", True)\\\n",
    "        .config(\"spark.dynamicAllocation.executorIdleTimeout\",\"30s\")\\\n",
    "        .config(\"spark.executor.cores\",2)\\\n",
    "        .config(\"spark.driver.port\",9998)\\\n",
    "        .config(\"spark.blockManager.port\",10005)\\\n",
    "        .getOrCreate()\n",
    "\n",
    "# Old API (RDD)\n",
    "spark_context = spark_session.sparkContext\n",
    "\n",
    "spark_context.setLogLevel(\"INFO\")\n"
   ]
  },
  {
   "cell_type": "code",
   "execution_count": null,
   "id": "toxic-diversity",
   "metadata": {},
   "outputs": [],
   "source": [
    "A.1.1 "
   ]
  },
  {
   "cell_type": "code",
   "execution_count": 58,
   "id": "hawaiian-worse",
   "metadata": {},
   "outputs": [
    {
     "data": {
      "text/plain": [
       "1924942"
      ]
     },
     "execution_count": 58,
     "metadata": {},
     "output_type": "execute_result"
    }
   ],
   "source": [
    "elines = spark_context.textFile(\"hdfs://192.168.2.113:9000/europarl/europarl-v7.fi-en.en\")\n",
    "elines.count()\n"
   ]
  },
  {
   "cell_type": "code",
   "execution_count": 59,
   "id": "dominican-nevada",
   "metadata": {},
   "outputs": [
    {
     "data": {
      "text/plain": [
       "1924942"
      ]
     },
     "execution_count": 59,
     "metadata": {},
     "output_type": "execute_result"
    }
   ],
   "source": [
    "flines = spark_context.textFile(\"hdfs://192.168.2.113:9000/europarl/europarl-v7.fi-en.fi\")\n",
    "flines.count()"
   ]
  },
  {
   "cell_type": "code",
   "execution_count": 60,
   "id": "informative-regulation",
   "metadata": {},
   "outputs": [
    {
     "name": "stdout",
     "output_type": "stream",
     "text": [
      "3\n",
      "3\n"
     ]
    }
   ],
   "source": [
    "print(elines.getNumPartitions())\n",
    "print(flines.getNumPartitions())"
   ]
  },
  {
   "cell_type": "code",
   "execution_count": null,
   "id": "north-exemption",
   "metadata": {},
   "outputs": [],
   "source": []
  }
 ],
 "metadata": {
  "kernelspec": {
   "display_name": "Python 3",
   "language": "python",
   "name": "python3"
  },
  "language_info": {
   "codemirror_mode": {
    "name": "ipython",
    "version": 3
   },
   "file_extension": ".py",
   "mimetype": "text/x-python",
   "name": "python",
   "nbconvert_exporter": "python",
   "pygments_lexer": "ipython3",
   "version": "3.8.5"
  }
 },
 "nbformat": 4,
 "nbformat_minor": 5
}
