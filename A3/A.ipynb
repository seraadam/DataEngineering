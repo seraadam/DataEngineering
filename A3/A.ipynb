{
 "cells": [
  {
   "cell_type": "code",
   "execution_count": 9,
   "id": "actual-musical",
   "metadata": {},
   "outputs": [],
   "source": [
    "from pyspark.sql import SparkSession\n",
    "from operator import add\n",
    "\n",
    "spark_session = SparkSession\\\n",
    "        .builder\\\n",
    "        .master(\"spark://192.168.2.113:7077\") \\\n",
    "        .appName(\"esraa_mohammed_a\")\\\n",
    "        .config(\"spark.dynamicAllocation.enabled\", True)\\\n",
    "        .config(\"spark.shuffle.service.enabled\", True)\\\n",
    "        .config(\"spark.dynamicAllocation.executorIdleTimeout\",\"30s\")\\\n",
    "        .config(\"spark.executor.cores\",2)\\\n",
    "        .config(\"spark.driver.port\",9998)\\\n",
    "        .config(\"spark.blockManager.port\",10005)\\\n",
    "        .getOrCreate()\n",
    "\n",
    "# Old API (RDD)\n",
    "spark_context = spark_session.sparkContext\n",
    "\n",
    "spark_context.setLogLevel(\"INFO\")\n"
   ]
  },
  {
   "cell_type": "markdown",
   "id": "egyptian-sailing",
   "metadata": {},
   "source": [
    "#A.1.1 :"
   ]
  },
  {
   "cell_type": "code",
   "execution_count": 10,
   "id": "automated-naples",
   "metadata": {},
   "outputs": [
    {
     "data": {
      "text/plain": [
       "1924942"
      ]
     },
     "execution_count": 10,
     "metadata": {},
     "output_type": "execute_result"
    }
   ],
   "source": [
    "elines = spark_context.textFile(\"hdfs://192.168.2.113:9000/europarl/europarl-v7.fi-en.en\")\n",
    "elines.count()\n"
   ]
  },
  {
   "cell_type": "markdown",
   "id": "continental-malawi",
   "metadata": {},
   "source": [
    "#A.1.2:"
   ]
  },
  {
   "cell_type": "code",
   "execution_count": 11,
   "id": "fifty-timing",
   "metadata": {},
   "outputs": [
    {
     "data": {
      "text/plain": [
       "1924942"
      ]
     },
     "execution_count": 11,
     "metadata": {},
     "output_type": "execute_result"
    }
   ],
   "source": [
    "flines = spark_context.textFile(\"hdfs://192.168.2.113:9000/europarl/europarl-v7.fi-en.fi\")\n",
    "flines.count()"
   ]
  },
  {
   "cell_type": "markdown",
   "id": "stopped-green",
   "metadata": {},
   "source": [
    "#A.1.3 :\n",
    "total number of lines for both languages are : 1924942"
   ]
  },
  {
   "cell_type": "markdown",
   "id": "distant-kidney",
   "metadata": {},
   "source": [
    "#A.1.4: 3 partitions"
   ]
  },
  {
   "cell_type": "code",
   "execution_count": 12,
   "id": "satisfied-darwin",
   "metadata": {},
   "outputs": [
    {
     "name": "stdout",
     "output_type": "stream",
     "text": [
      "3\n",
      "3\n"
     ]
    }
   ],
   "source": [
    "print(elines.getNumPartitions())\n",
    "print(flines.getNumPartitions())"
   ]
  },
  {
   "cell_type": "markdown",
   "id": "valued-elimination",
   "metadata": {},
   "source": [
    "#A.2.1  and #A.3.1"
   ]
  },
  {
   "cell_type": "code",
   "execution_count": 13,
   "id": "hydraulic-leave",
   "metadata": {},
   "outputs": [],
   "source": [
    "def preprocess(lines):\n",
    "    lower = lines.map(lambda line : line.lower())\\\n",
    "                 .flatMap(lambda s: s.split(' '))\\\n",
    "                 .flatMap(lambda w: w.split('\\n'))\\\n",
    "                 .map(lambda w: w.strip())\\\n",
    "                 .map(lambda w: (w,1))\\\n",
    "                 .reduceByKey(add)\\\n",
    "                 .takeOrdered(10, key=lambda x: -x[1])\n",
    "    return lower\n"
   ]
  },
  {
   "cell_type": "markdown",
   "id": "italian-texture",
   "metadata": {},
   "source": [
    "#A.2.2"
   ]
  },
  {
   "cell_type": "code",
   "execution_count": 14,
   "id": "developmental-sarah",
   "metadata": {},
   "outputs": [
    {
     "name": "stdout",
     "output_type": "stream",
     "text": [
      "[('the', 3631865), ('of', 1724191), ('to', 1600135), ('and', 1339070), ('in', 1127220), ('that', 830098), ('a', 803908), ('is', 785410), ('for', 553730), ('we', 548087)]\n"
     ]
    }
   ],
   "source": [
    "print(preprocess(elines))"
   ]
  },
  {
   "cell_type": "code",
   "execution_count": 15,
   "id": "personal-accuracy",
   "metadata": {},
   "outputs": [
    {
     "name": "stdout",
     "output_type": "stream",
     "text": [
      "[('ja', 1249156), ('on', 1035956), ('että', 619655), ('euroopan', 257568), ('ei', 246268), ('myös', 178765), ('ovat', 161869), ('se', 152857), ('arvoisa', 149589), ('ole', 134745)]\n"
     ]
    }
   ],
   "source": [
    "print(preprocess(flines))"
   ]
  },
  {
   "cell_type": "markdown",
   "id": "light-harvey",
   "metadata": {},
   "source": [
    "#A.2.3"
   ]
  },
  {
   "cell_type": "code",
   "execution_count": 16,
   "id": "instant-namibia",
   "metadata": {},
   "outputs": [
    {
     "name": "stdout",
     "output_type": "stream",
     "text": [
      "1924942\n",
      "1924942\n"
     ]
    }
   ],
   "source": [
    "print(flines.count())\n",
    "print(elines.count())"
   ]
  },
  {
   "cell_type": "markdown",
   "id": "sustainable-mainland",
   "metadata": {},
   "source": [
    "#A.3.2 :\n",
    "\n",
    "Most of the frequently used words in english are articles, pronounce, propositions and verb to be. same in French language"
   ]
  },
  {
   "cell_type": "code",
   "execution_count": null,
   "id": "downtown-virtue",
   "metadata": {},
   "outputs": [],
   "source": [
    "elines.map(lambda line: line.split(' ')).map(lambda w: len(w) < 6).take(5)"
   ]
  },
  {
   "cell_type": "code",
   "execution_count": 21,
   "id": "varying-europe",
   "metadata": {},
   "outputs": [
    {
     "data": {
      "text/plain": [
       "['Resumption of the session',\n",
       " 'I declare resumed the session of the European Parliament adjourned on Friday 17 December 1999, and I would like once again to wish you a happy new year in the hope that you enjoyed a pleasant festive period.',\n",
       " \"Although, as you will have seen, the dreaded 'millennium bug' failed to materialise, still the people in a number of countries suffered a series of natural disasters that truly were dreadful.\",\n",
       " 'You have requested a debate on this subject in the course of the next few days, during this part-session.',\n",
       " \"In the meantime, I should like to observe a minute' s silence, as a number of Members have requested, on behalf of all the victims concerned, particularly those of the terrible storms, in the various countries of the European Union.\"]"
      ]
     },
     "execution_count": 21,
     "metadata": {},
     "output_type": "execute_result"
    }
   ],
   "source": [
    "elines.take(5)"
   ]
  },
  {
   "cell_type": "code",
   "execution_count": null,
   "id": "organized-voluntary",
   "metadata": {},
   "outputs": [],
   "source": []
  }
 ],
 "metadata": {
  "kernelspec": {
   "display_name": "Python 3",
   "language": "python",
   "name": "python3"
  },
  "language_info": {
   "codemirror_mode": {
    "name": "ipython",
    "version": 3
   },
   "file_extension": ".py",
   "mimetype": "text/x-python",
   "name": "python",
   "nbconvert_exporter": "python",
   "pygments_lexer": "ipython3",
   "version": "3.8.5"
  }
 },
 "nbformat": 4,
 "nbformat_minor": 5
}
